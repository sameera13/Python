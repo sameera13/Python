{
  "nbformat": 4,
  "nbformat_minor": 0,
  "metadata": {
    "colab": {
      "name": "27-12-19.ipynb",
      "provenance": [],
      "include_colab_link": true
    },
    "kernelspec": {
      "name": "python3",
      "display_name": "Python 3"
    }
  },
  "cells": [
    {
      "cell_type": "markdown",
      "metadata": {
        "id": "view-in-github",
        "colab_type": "text"
      },
      "source": [
        "<a href=\"https://colab.research.google.com/github/sameera13/Python/blob/master/27_12_19.ipynb\" target=\"_parent\"><img src=\"https://colab.research.google.com/assets/colab-badge.svg\" alt=\"Open In Colab\"/></a>"
      ]
    },
    {
      "cell_type": "code",
      "metadata": {
        "id": "5b-e52XBeJfU",
        "colab_type": "code",
        "colab": {}
      },
      "source": [
        ""
      ],
      "execution_count": 0,
      "outputs": []
    },
    {
      "cell_type": "markdown",
      "metadata": {
        "id": "mwRmGcNMeWjI",
        "colab_type": "text"
      },
      "source": [
        "#list examples\n"
      ]
    },
    {
      "cell_type": "code",
      "metadata": {
        "id": "nW1gwAsaeZ1o",
        "colab_type": "code",
        "colab": {
          "base_uri": "https://localhost:8080/",
          "height": 153
        },
        "outputId": "6b70699a-8c9f-4a46-b4ce-420eba81ae1f"
      },
      "source": [
        "li=[\"gitam\",123,124,125,1345,1257]\n",
        "print(li)\n",
        "print(li[1])\n",
        "print(li[2:])\n",
        "print(li[2:4])\n",
        "print(li[-1])\n",
        "print(li[-4:-1])\n",
        "print(li[::-1])\n",
        "print(li[-1::-1])"
      ],
      "execution_count": 26,
      "outputs": [
        {
          "output_type": "stream",
          "text": [
            "['gitam', 123, 124, 125, 1345, 1257]\n",
            "123\n",
            "[124, 125, 1345, 1257]\n",
            "[124, 125]\n",
            "1257\n",
            "[124, 125, 1345]\n",
            "[1257, 1345, 125, 124, 123, 'gitam']\n",
            "[1257, 1345, 125, 124, 123, 'gitam']\n"
          ],
          "name": "stdout"
        }
      ]
    },
    {
      "cell_type": "code",
      "metadata": {
        "id": "bdvkp9nWeuzb",
        "colab_type": "code",
        "colab": {
          "base_uri": "https://localhost:8080/",
          "height": 34
        },
        "outputId": "b7dcbfe6-1182-4291-d48a-5756217d3372"
      },
      "source": [
        "#update\n",
        "li[0]=\"sameera\"\n",
        "print(li)"
      ],
      "execution_count": 2,
      "outputs": [
        {
          "output_type": "stream",
          "text": [
            "['sameera', 123, 124, 125, 1345, 1257]\n"
          ],
          "name": "stdout"
        }
      ]
    },
    {
      "cell_type": "code",
      "metadata": {
        "id": "O6HUbbzWfKl4",
        "colab_type": "code",
        "colab": {
          "base_uri": "https://localhost:8080/",
          "height": 34
        },
        "outputId": "29d5f93b-2f7c-4efd-a277-ddb5b1ab80c0"
      },
      "source": [
        "#delete\n",
        "del li[3]\n",
        "print(li)"
      ],
      "execution_count": 3,
      "outputs": [
        {
          "output_type": "stream",
          "text": [
            "['sameera', 123, 124, 1345, 1257]\n"
          ],
          "name": "stdout"
        }
      ]
    },
    {
      "cell_type": "code",
      "metadata": {
        "id": "SY4BYSpufnju",
        "colab_type": "code",
        "colab": {
          "base_uri": "https://localhost:8080/",
          "height": 34
        },
        "outputId": "30cb9676-ea55-4d95-9017-c2be437677ac"
      },
      "source": [
        "li=[1,2,3,4,5]\n",
        "print(len(li))"
      ],
      "execution_count": 4,
      "outputs": [
        {
          "output_type": "stream",
          "text": [
            "5\n"
          ],
          "name": "stdout"
        }
      ]
    },
    {
      "cell_type": "code",
      "metadata": {
        "id": "QbbGr0achO-A",
        "colab_type": "code",
        "colab": {
          "base_uri": "https://localhost:8080/",
          "height": 51
        },
        "outputId": "74b4265c-1ce1-46d9-d2d8-4d76957f2666"
      },
      "source": [
        "li=[1,2,3,4,5]\n",
        "print(len(li))\n",
        "print(li*2)"
      ],
      "execution_count": 5,
      "outputs": [
        {
          "output_type": "stream",
          "text": [
            "5\n",
            "[1, 2, 3, 4, 5, 1, 2, 3, 4, 5]\n"
          ],
          "name": "stdout"
        }
      ]
    },
    {
      "cell_type": "code",
      "metadata": {
        "id": "AaZzUTDThdjQ",
        "colab_type": "code",
        "colab": {
          "base_uri": "https://localhost:8080/",
          "height": 51
        },
        "outputId": "2de3cadc-4bd8-47d5-d54b-6158829c9882"
      },
      "source": [
        "li=[1,2,3,4,5]\n",
        "print(7 in li)\n",
        "print(5 in li)"
      ],
      "execution_count": 6,
      "outputs": [
        {
          "output_type": "stream",
          "text": [
            "False\n",
            "True\n"
          ],
          "name": "stdout"
        }
      ]
    },
    {
      "cell_type": "code",
      "metadata": {
        "id": "Yjc2TVwShrJo",
        "colab_type": "code",
        "colab": {}
      },
      "source": [
        ""
      ],
      "execution_count": 0,
      "outputs": []
    },
    {
      "cell_type": "markdown",
      "metadata": {
        "id": "X_8iC6Mkh6TZ",
        "colab_type": "text"
      },
      "source": [
        "# basic list functions\n"
      ]
    },
    {
      "cell_type": "code",
      "metadata": {
        "id": "WvYyzP6Wh_1Q",
        "colab_type": "code",
        "colab": {
          "base_uri": "https://localhost:8080/",
          "height": 85
        },
        "outputId": "ad6921b1-6848-499c-a4bf-9698c16a73a7"
      },
      "source": [
        "li=[1,2,3,4,5,6]\n",
        "print(max(li))\n",
        "print(min(li))\n",
        "print(sum(li))\n",
        "print(sum(li)/len(li))"
      ],
      "execution_count": 9,
      "outputs": [
        {
          "output_type": "stream",
          "text": [
            "6\n",
            "1\n",
            "21\n",
            "3.5\n"
          ],
          "name": "stdout"
        }
      ]
    },
    {
      "cell_type": "code",
      "metadata": {
        "id": "6ifDYGJHiNUw",
        "colab_type": "code",
        "colab": {
          "base_uri": "https://localhost:8080/",
          "height": 51
        },
        "outputId": "bb7a1ad4-bda1-457a-c60b-bd43acdbb695"
      },
      "source": [
        "#append-used to add item at the end of the list\n",
        "li=[1,2,3,4,5,6]\n",
        "li.append(29)\n",
        "print(li)\n",
        "li.insert(2,56) #to insert at the specific index\n",
        "print(li)"
      ],
      "execution_count": 13,
      "outputs": [
        {
          "output_type": "stream",
          "text": [
            "[1, 2, 3, 4, 5, 6, 29]\n",
            "[1, 2, 56, 3, 4, 5, 6, 29]\n"
          ],
          "name": "stdout"
        }
      ]
    },
    {
      "cell_type": "code",
      "metadata": {
        "id": "r_JvvBZjjdZ4",
        "colab_type": "code",
        "colab": {
          "base_uri": "https://localhost:8080/",
          "height": 68
        },
        "outputId": "003a4175-f26f-4bde-e633-daf63c61f5c5"
      },
      "source": [
        "li=[1,3,2,4,6,5]\n",
        "li.sort() #sorts the list in ascending order\n",
        "print(li)\n",
        "li.pop() #last index item will be deleted\n",
        "print(li)\n",
        "li.pop(1) #removes item from specific index\n",
        "print(li)"
      ],
      "execution_count": 17,
      "outputs": [
        {
          "output_type": "stream",
          "text": [
            "[1, 2, 3, 4, 5, 6]\n",
            "[1, 2, 3, 4, 5]\n",
            "[1, 3, 4, 5]\n"
          ],
          "name": "stdout"
        }
      ]
    },
    {
      "cell_type": "code",
      "metadata": {
        "id": "h68oLvi9ka55",
        "colab_type": "code",
        "colab": {
          "base_uri": "https://localhost:8080/",
          "height": 51
        },
        "outputId": "c96d0796-87e5-46a4-c381-44bff77268db"
      },
      "source": [
        "#function to return large number from list\n",
        "def largenumber(li):\n",
        "  li.sort()\n",
        "  return li[-1]\n",
        "def genericlarge(li,n):\n",
        "  li.sort()\n",
        "  return li[-n]\n",
        "li=[19,1,3,87,32,21,36]\n",
        "print(largenumber(li))\n",
        "print(genericlarge(li,3))"
      ],
      "execution_count": 18,
      "outputs": [
        {
          "output_type": "stream",
          "text": [
            "87\n",
            "32\n"
          ],
          "name": "stdout"
        }
      ]
    },
    {
      "cell_type": "code",
      "metadata": {
        "id": "yu_26av-nfjs",
        "colab_type": "code",
        "colab": {
          "base_uri": "https://localhost:8080/",
          "height": 51
        },
        "outputId": "c2127115-70d9-4fd4-8d50-aea727f12b60"
      },
      "source": [
        "#function to return small number from list\n",
        "def smallnumber(li):\n",
        "  li.sort()\n",
        "  return li[0]\n",
        "def genericsmall(li,n):\n",
        "  li.sort()\n",
        "  return li[n-1]\n",
        "li=[19,1,3,87,32,21,36]\n",
        "print(smallnumber(li))\n",
        "print(genericsmall(li,3))"
      ],
      "execution_count": 23,
      "outputs": [
        {
          "output_type": "stream",
          "text": [
            "1\n",
            "19\n"
          ],
          "name": "stdout"
        }
      ]
    },
    {
      "cell_type": "code",
      "metadata": {
        "id": "USjvGfLnnwon",
        "colab_type": "code",
        "colab": {}
      },
      "source": [
        ""
      ],
      "execution_count": 0,
      "outputs": []
    },
    {
      "cell_type": "markdown",
      "metadata": {
        "id": "ZUoVJEiPpx1x",
        "colab_type": "text"
      },
      "source": [
        "#Tuples\n",
        "- values seperated by comma enclosed by parenthesis( )\n",
        "- values cannot be changed i.e immutable\n",
        "#Difference b/w list and tuple\n",
        "- list can be modified\n",
        "- used to access means modify,add,delete and update\n",
        "- tuple cannot be modified\n",
        "- used to access data only"
      ]
    },
    {
      "cell_type": "code",
      "metadata": {
        "id": "2tBHw5DTq8gt",
        "colab_type": "code",
        "colab": {
          "base_uri": "https://localhost:8080/",
          "height": 51
        },
        "outputId": "aa9af082-d062-4d01-a00a-65728db43917"
      },
      "source": [
        "t1=(1,2,3,4,5)\n",
        "print(t1)\n",
        "print(type(t1))"
      ],
      "execution_count": 25,
      "outputs": [
        {
          "output_type": "stream",
          "text": [
            "(1, 2, 3, 4, 5)\n",
            "<class 'tuple'>\n"
          ],
          "name": "stdout"
        }
      ]
    },
    {
      "cell_type": "code",
      "metadata": {
        "id": "mGr8JZMOrewI",
        "colab_type": "code",
        "colab": {}
      },
      "source": [
        ""
      ],
      "execution_count": 0,
      "outputs": []
    },
    {
      "cell_type": "markdown",
      "metadata": {
        "id": "MHCxUyXGuCVj",
        "colab_type": "text"
      },
      "source": [
        "#Dictionaries:\n",
        "- it works on concept of set unique data\n",
        "- it contains keys and values\n",
        "- each key is seperated from its values with colon ':'\n",
        "- each key and values seperated by comm ,\n",
        "- dictionary enclosed by { }\n"
      ]
    },
    {
      "cell_type": "code",
      "metadata": {
        "id": "m9UkKCDnvNdf",
        "colab_type": "code",
        "colab": {
          "base_uri": "https://localhost:8080/",
          "height": 34
        },
        "outputId": "36d5e6c9-0458-47d4-b3f3-66d9009bae47"
      },
      "source": [
        "d1={\"name\":\"gitam\",\"email\":\"gitam@gmail.com\",\"address\":\"hyderabad\"}\n",
        "print(d1)"
      ],
      "execution_count": 28,
      "outputs": [
        {
          "output_type": "stream",
          "text": [
            "{'name': 'gitam', 'email': 'gitam@gmail.com', 'address': 'hyderabad'}\n"
          ],
          "name": "stdout"
        }
      ]
    },
    {
      "cell_type": "code",
      "metadata": {
        "id": "Xs3Nw3eaviCR",
        "colab_type": "code",
        "colab": {
          "base_uri": "https://localhost:8080/",
          "height": 34
        },
        "outputId": "9290c812-ab0a-431d-e4ad-3d11ed294606"
      },
      "source": [
        "d1[\"name\"]"
      ],
      "execution_count": 29,
      "outputs": [
        {
          "output_type": "execute_result",
          "data": {
            "text/plain": [
              "'gitam'"
            ]
          },
          "metadata": {
            "tags": []
          },
          "execution_count": 29
        }
      ]
    },
    {
      "cell_type": "code",
      "metadata": {
        "id": "t4eFj8u3v-Xo",
        "colab_type": "code",
        "colab": {
          "base_uri": "https://localhost:8080/",
          "height": 34
        },
        "outputId": "950bfafa-8ad9-41bc-c2ba-528fe8022c06"
      },
      "source": [
        "#update\n",
        "d1={\"name\":\"gitam\",\"email\":\"gitam@gmail.com\",\"address\":\"hyderabad\"}\n",
        "d1[\"email\"]=\"python@gmail.com\"\n",
        "print(d1)"
      ],
      "execution_count": 30,
      "outputs": [
        {
          "output_type": "stream",
          "text": [
            "{'name': 'gitam', 'email': 'python@gmail.com', 'address': 'hyderabad'}\n"
          ],
          "name": "stdout"
        }
      ]
    },
    {
      "cell_type": "code",
      "metadata": {
        "id": "Nj--fjgHxFu5",
        "colab_type": "code",
        "colab": {
          "base_uri": "https://localhost:8080/",
          "height": 34
        },
        "outputId": "cdd6106b-291f-44fc-ce23-6fe8916c8255"
      },
      "source": [
        "#to add keys\n",
        "d1[\"course\"]=\"python\"\n",
        "print(d1)"
      ],
      "execution_count": 32,
      "outputs": [
        {
          "output_type": "stream",
          "text": [
            "{'name': 'gitam', 'email': 'python@gmail.com', 'address': 'hyderabad', 'course': 'python'}\n"
          ],
          "name": "stdout"
        }
      ]
    },
    {
      "cell_type": "code",
      "metadata": {
        "id": "-wLUZv5Mxa-_",
        "colab_type": "code",
        "colab": {
          "base_uri": "https://localhost:8080/",
          "height": 34
        },
        "outputId": "26a22ed9-d441-41c7-e993-b313a46e3b01"
      },
      "source": [
        "#to delete\n",
        "del d1[\"email\"]\n",
        "print(d1)"
      ],
      "execution_count": 33,
      "outputs": [
        {
          "output_type": "stream",
          "text": [
            "{'name': 'gitam', 'address': 'hyderabad', 'course': 'python'}\n"
          ],
          "name": "stdout"
        }
      ]
    },
    {
      "cell_type": "code",
      "metadata": {
        "id": "F4x-FvPpxmJo",
        "colab_type": "code",
        "colab": {
          "base_uri": "https://localhost:8080/",
          "height": 34
        },
        "outputId": "29cebacb-f907-4421-a1e7-50fafb2cdd96"
      },
      "source": [
        "d1.keys()"
      ],
      "execution_count": 36,
      "outputs": [
        {
          "output_type": "execute_result",
          "data": {
            "text/plain": [
              "dict_keys(['name', 'address', 'course'])"
            ]
          },
          "metadata": {
            "tags": []
          },
          "execution_count": 36
        }
      ]
    },
    {
      "cell_type": "code",
      "metadata": {
        "id": "DQqZSY0k0JFY",
        "colab_type": "code",
        "colab": {
          "base_uri": "https://localhost:8080/",
          "height": 34
        },
        "outputId": "315c8ccf-0401-4dff-e66d-c9a199f50d0d"
      },
      "source": [
        "d1.values()"
      ],
      "execution_count": 38,
      "outputs": [
        {
          "output_type": "execute_result",
          "data": {
            "text/plain": [
              "dict_values(['gitam', 'hyderabad', 'python'])"
            ]
          },
          "metadata": {
            "tags": []
          },
          "execution_count": 38
        }
      ]
    },
    {
      "cell_type": "code",
      "metadata": {
        "id": "z8Xykv7w0LQx",
        "colab_type": "code",
        "colab": {
          "base_uri": "https://localhost:8080/",
          "height": 34
        },
        "outputId": "c100865d-94b0-461e-891f-e38540fcb614"
      },
      "source": [
        "d1.items()"
      ],
      "execution_count": 39,
      "outputs": [
        {
          "output_type": "execute_result",
          "data": {
            "text/plain": [
              "dict_items([('name', 'gitam'), ('address', 'hyderabad'), ('course', 'python')])"
            ]
          },
          "metadata": {
            "tags": []
          },
          "execution_count": 39
        }
      ]
    },
    {
      "cell_type": "markdown",
      "metadata": {
        "id": "gsZVMGXB0yUb",
        "colab_type": "text"
      },
      "source": [
        "#strings:"
      ]
    },
    {
      "cell_type": "code",
      "metadata": {
        "id": "bkZ-Q2oT01yw",
        "colab_type": "code",
        "colab": {
          "base_uri": "https://localhost:8080/",
          "height": 51
        },
        "outputId": "06763eb4-4289-4118-c5bb-d7de7d258793"
      },
      "source": [
        "s1='python'\n",
        "print(s1)\n",
        "print(type(s1))"
      ],
      "execution_count": 41,
      "outputs": [
        {
          "output_type": "stream",
          "text": [
            "python\n",
            "<class 'str'>\n"
          ],
          "name": "stdout"
        }
      ]
    },
    {
      "cell_type": "code",
      "metadata": {
        "id": "ccMFevGC05yQ",
        "colab_type": "code",
        "colab": {
          "base_uri": "https://localhost:8080/",
          "height": 102
        },
        "outputId": "0edc4347-8d9d-4015-a05c-503d81993398"
      },
      "source": [
        "s1='python'\n",
        "print(s1[0])\n",
        "print(s1[5])\n",
        "print(s1[2:])\n",
        "print(s1[::-1])\n",
        "print(s1[-1::-1])"
      ],
      "execution_count": 46,
      "outputs": [
        {
          "output_type": "stream",
          "text": [
            "p\n",
            "n\n",
            "thon\n",
            "nohtyp\n",
            "nohtyp\n"
          ],
          "name": "stdout"
        }
      ]
    },
    {
      "cell_type": "code",
      "metadata": {
        "id": "eywcWxwf1SSo",
        "colab_type": "code",
        "colab": {
          "base_uri": "https://localhost:8080/",
          "height": 51
        },
        "outputId": "0f1d0f2d-264e-4385-b534-500c12e9f84e"
      },
      "source": [
        "s1='python'\n",
        "print(s1[len(s1)//2])\n",
        "print(s1[0:6:2])"
      ],
      "execution_count": 49,
      "outputs": [
        {
          "output_type": "stream",
          "text": [
            "h\n",
            "pto\n"
          ],
          "name": "stdout"
        }
      ]
    },
    {
      "cell_type": "code",
      "metadata": {
        "id": "VbdrGjfJ2MOt",
        "colab_type": "code",
        "colab": {
          "base_uri": "https://localhost:8080/",
          "height": 34
        },
        "outputId": "b1d4fa25-7be2-4cae-a54e-227195ddbf2e"
      },
      "source": [
        "#using function reverse of string\n",
        "def reverseofstring(str):\n",
        "  return str[::-1]\n",
        "reverseofstring(\"programming\")  "
      ],
      "execution_count": 51,
      "outputs": [
        {
          "output_type": "execute_result",
          "data": {
            "text/plain": [
              "'gnimmargorp'"
            ]
          },
          "metadata": {
            "tags": []
          },
          "execution_count": 51
        }
      ]
    },
    {
      "cell_type": "code",
      "metadata": {
        "id": "1MwyH9mp31_X",
        "colab_type": "code",
        "colab": {
          "base_uri": "https://localhost:8080/",
          "height": 34
        },
        "outputId": "1ead986d-3a31-4019-8595-2a2b2a8fb61f"
      },
      "source": [
        "def palindrome(str):\n",
        "  str1=str[::-1]\n",
        "  if str==str1:\n",
        "    return True\n",
        "  else:\n",
        "    return False\n",
        "palindrome(\"mdm\")"
      ],
      "execution_count": 61,
      "outputs": [
        {
          "output_type": "execute_result",
          "data": {
            "text/plain": [
              "True"
            ]
          },
          "metadata": {
            "tags": []
          },
          "execution_count": 61
        }
      ]
    },
    {
      "cell_type": "code",
      "metadata": {
        "id": "kHXCefbv5E0A",
        "colab_type": "code",
        "colab": {}
      },
      "source": [
        ""
      ],
      "execution_count": 0,
      "outputs": []
    },
    {
      "cell_type": "markdown",
      "metadata": {
        "id": "CfKI23kC7ClO",
        "colab_type": "text"
      },
      "source": [
        "#Sring build-in methods:\n",
        "- upper( )\n",
        "- lower( )\n",
        "- islower( )\n",
        "- isupper( )\n",
        "- istitle( )\n",
        "- isnumeric( )\n",
        "- isalpha( )\n",
        "- isspace( )"
      ]
    },
    {
      "cell_type": "code",
      "metadata": {
        "id": "VijDAiNK7hFE",
        "colab_type": "code",
        "colab": {
          "base_uri": "https://localhost:8080/",
          "height": 153
        },
        "outputId": "69c11741-b29a-4eae-b9e6-75fa54f6755c"
      },
      "source": [
        "s1=\"Python\"\n",
        "print(s1.upper())\n",
        "print(s1.lower())\n",
        "print(s1.isupper())\n",
        "print(s1.islower())\n",
        "print(s1.istitle())\n",
        "print(s1.isnumeric())\n",
        "print(s1.isalpha())\n",
        "print(s1.isspace())"
      ],
      "execution_count": 67,
      "outputs": [
        {
          "output_type": "stream",
          "text": [
            "PYTHON\n",
            "python\n",
            "False\n",
            "False\n",
            "True\n",
            "False\n",
            "True\n",
            "False\n"
          ],
          "name": "stdout"
        }
      ]
    },
    {
      "cell_type": "code",
      "metadata": {
        "id": "klmVkFIV8Mmo",
        "colab_type": "code",
        "colab": {
          "base_uri": "https://localhost:8080/",
          "height": 34
        },
        "outputId": "50957786-ab01-4405-9e51-e2981b3f8bfc"
      },
      "source": [
        "s2=\" \" \n",
        "print(s2.isspace())"
      ],
      "execution_count": 77,
      "outputs": [
        {
          "output_type": "stream",
          "text": [
            "True\n"
          ],
          "name": "stdout"
        }
      ]
    },
    {
      "cell_type": "markdown",
      "metadata": {
        "id": "9G5Wh-E2_SOM",
        "colab_type": "text"
      },
      "source": [
        "#String methods:\n",
        "- join( )\n",
        "- split( )\n",
        "-replace( )"
      ]
    },
    {
      "cell_type": "code",
      "metadata": {
        "id": "3IlPTvY4_fX-",
        "colab_type": "code",
        "colab": {
          "base_uri": "https://localhost:8080/",
          "height": 51
        },
        "outputId": "5995b957-616b-450d-d63b-a24c979876cd"
      },
      "source": [
        "s1='python'\n",
        "print(\" \".join(s1))\n",
        "print(\",\".join(s1))\n"
      ],
      "execution_count": 82,
      "outputs": [
        {
          "output_type": "stream",
          "text": [
            "p y t h o n\n",
            "p,y,t,h,o,n\n"
          ],
          "name": "stdout"
        }
      ]
    },
    {
      "cell_type": "code",
      "metadata": {
        "id": "UsbvKDBrAEcw",
        "colab_type": "code",
        "colab": {
          "base_uri": "https://localhost:8080/",
          "height": 51
        },
        "outputId": "951d7756-f0e2-411c-b566-e9c15fad2c23"
      },
      "source": [
        "s1=\"python is easy to learn\"\n",
        "print(s1.split())\n",
        "print(s1.split('a'))"
      ],
      "execution_count": 83,
      "outputs": [
        {
          "output_type": "stream",
          "text": [
            "['python', 'is', 'easy', 'to', 'learn']\n",
            "['python is e', 'sy to le', 'rn']\n"
          ],
          "name": "stdout"
        }
      ]
    },
    {
      "cell_type": "code",
      "metadata": {
        "id": "I0lPVM7jA1bH",
        "colab_type": "code",
        "colab": {
          "base_uri": "https://localhost:8080/",
          "height": 34
        },
        "outputId": "61ee39f9-ae32-4139-a8c4-3e5c1fe6e794"
      },
      "source": [
        "s1=\"python is easy to learn\"\n",
        "li=list(s1)\n",
        "print(li)"
      ],
      "execution_count": 84,
      "outputs": [
        {
          "output_type": "stream",
          "text": [
            "['p', 'y', 't', 'h', 'o', 'n', ' ', 'i', 's', ' ', 'e', 'a', 's', 'y', ' ', 't', 'o', ' ', 'l', 'e', 'a', 'r', 'n']\n"
          ],
          "name": "stdout"
        }
      ]
    },
    {
      "cell_type": "code",
      "metadata": {
        "id": "B2m6ToGUBJzo",
        "colab_type": "code",
        "colab": {
          "base_uri": "https://localhost:8080/",
          "height": 34
        },
        "outputId": "67592808-6a95-4d51-9a0e-b43ad9dbd661"
      },
      "source": [
        "s1=\"python is easy to learn\"\n",
        "print(s1.replace(\"easy\",\"very easy\"))"
      ],
      "execution_count": 85,
      "outputs": [
        {
          "output_type": "stream",
          "text": [
            "python is very easy to learn\n"
          ],
          "name": "stdout"
        }
      ]
    },
    {
      "cell_type": "code",
      "metadata": {
        "id": "QCvZJMeGB1Sh",
        "colab_type": "code",
        "colab": {}
      },
      "source": [
        "marks={'peter':[80,85,90],'joe':[86,90,95]}\n",
        "output:1.[80,85,90]\n",
        "2.85\n",
        "3.86\n",
        "4.[95,90,86]"
      ],
      "execution_count": 0,
      "outputs": []
    },
    {
      "cell_type": "code",
      "metadata": {
        "id": "6kg9JJMMDK3w",
        "colab_type": "code",
        "colab": {
          "base_uri": "https://localhost:8080/",
          "height": 34
        },
        "outputId": "f891e079-1b2b-4b9f-f242-d3b7da3c7d97"
      },
      "source": [
        "marks={'peter':[80,85,90],'joe':[86,90,95]}\n",
        "marks['peter']\n"
      ],
      "execution_count": 100,
      "outputs": [
        {
          "output_type": "execute_result",
          "data": {
            "text/plain": [
              "[80, 85, 90]"
            ]
          },
          "metadata": {
            "tags": []
          },
          "execution_count": 100
        }
      ]
    },
    {
      "cell_type": "code",
      "metadata": {
        "id": "kgKPPsTFDSL9",
        "colab_type": "code",
        "colab": {
          "base_uri": "https://localhost:8080/",
          "height": 34
        },
        "outputId": "3cfdcbc9-0e0c-4b5f-8411-2d72313223d8"
      },
      "source": [
        "marks={'peter':[80,85,90],'joe':[86,90,95]}\n",
        "li=marks['peter']\n",
        "print(li[1])"
      ],
      "execution_count": 101,
      "outputs": [
        {
          "output_type": "stream",
          "text": [
            "85\n"
          ],
          "name": "stdout"
        }
      ]
    },
    {
      "cell_type": "code",
      "metadata": {
        "id": "s_bAPNNyEvJD",
        "colab_type": "code",
        "colab": {
          "base_uri": "https://localhost:8080/",
          "height": 34
        },
        "outputId": "7ef81ffd-61b6-4f3d-cfb2-16c9ad346583"
      },
      "source": [
        "marks={'peter':[80,85,90],'joe':[86,90,95]}\n",
        "li=marks['joe']\n",
        "print(li[0])"
      ],
      "execution_count": 102,
      "outputs": [
        {
          "output_type": "stream",
          "text": [
            "86\n"
          ],
          "name": "stdout"
        }
      ]
    },
    {
      "cell_type": "code",
      "metadata": {
        "id": "4IMG5yDVE12A",
        "colab_type": "code",
        "colab": {
          "base_uri": "https://localhost:8080/",
          "height": 34
        },
        "outputId": "d5db9364-eb10-47cb-99fc-d07bbaf7a7cc"
      },
      "source": [
        "marks={'peter':[80,85,90],'joe':[86,90,95]}\n",
        "li=marks['joe']\n",
        "print(li[::-1])"
      ],
      "execution_count": 103,
      "outputs": [
        {
          "output_type": "stream",
          "text": [
            "[95, 90, 86]\n"
          ],
          "name": "stdout"
        }
      ]
    },
    {
      "cell_type": "code",
      "metadata": {
        "id": "WvN6cF8TE6R5",
        "colab_type": "code",
        "colab": {
          "base_uri": "https://localhost:8080/",
          "height": 34
        },
        "outputId": "f47cecd2-01d0-49f6-f6ed-891296b6fe14"
      },
      "source": [
        "marks={'peter':{'math':1,'english':2},'joe':[86,90,95]}\n",
        "l1=marks['peter']\n",
        "l2=l1['english']\n",
        "print(l2)"
      ],
      "execution_count": 109,
      "outputs": [
        {
          "output_type": "stream",
          "text": [
            "2\n"
          ],
          "name": "stdout"
        }
      ]
    },
    {
      "cell_type": "code",
      "metadata": {
        "id": "Kckk0yxDF0vQ",
        "colab_type": "code",
        "colab": {}
      },
      "source": [
        ""
      ],
      "execution_count": 0,
      "outputs": []
    }
  ]
}