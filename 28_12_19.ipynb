{
  "nbformat": 4,
  "nbformat_minor": 0,
  "metadata": {
    "colab": {
      "name": "28-12-19.ipynb",
      "provenance": [],
      "include_colab_link": true
    },
    "kernelspec": {
      "name": "python3",
      "display_name": "Python 3"
    }
  },
  "cells": [
    {
      "cell_type": "markdown",
      "metadata": {
        "id": "view-in-github",
        "colab_type": "text"
      },
      "source": [
        "<a href=\"https://colab.research.google.com/github/sameera13/Python/blob/master/28_12_19.ipynb\" target=\"_parent\"><img src=\"https://colab.research.google.com/assets/colab-badge.svg\" alt=\"Open In Colab\"/></a>"
      ]
    },
    {
      "cell_type": "code",
      "metadata": {
        "id": "wa1XUeAWqdpv",
        "colab_type": "code",
        "colab": {
          "base_uri": "https://localhost:8080/",
          "height": 34
        },
        "outputId": "8bafc11d-1fa8-4b2a-a894-134e37487770"
      },
      "source": [
        "def sample(str):\n",
        "  \n",
        "   str1=str[0:len(str):2]\n",
        "   li=list(str1)\n",
        "   return li\n",
        "sample(\"pynative\")"
      ],
      "execution_count": 23,
      "outputs": [
        {
          "output_type": "execute_result",
          "data": {
            "text/plain": [
              "['p', 'n', 't', 'v']"
            ]
          },
          "metadata": {
            "tags": []
          },
          "execution_count": 23
        }
      ]
    },
    {
      "cell_type": "code",
      "metadata": {
        "id": "7NsZKv0asT8u",
        "colab_type": "code",
        "colab": {
          "base_uri": "https://localhost:8080/",
          "height": 34
        },
        "outputId": "65a5340b-c304-4534-84d5-d109b8b1a0b2"
      },
      "source": [
        "def sample1(la):\n",
        "  if (la[0]==la[-1]):\n",
        "   return True\n",
        "  else:\n",
        "    return False\n",
        "sample1([1,2,3,4,1])"
      ],
      "execution_count": 31,
      "outputs": [
        {
          "output_type": "execute_result",
          "data": {
            "text/plain": [
              "True"
            ]
          },
          "metadata": {
            "tags": []
          },
          "execution_count": 31
        }
      ]
    },
    {
      "cell_type": "code",
      "metadata": {
        "id": "hVAbOWht07HV",
        "colab_type": "code",
        "colab": {
          "base_uri": "https://localhost:8080/",
          "height": 102
        },
        "outputId": "e62a677a-a877-423f-a2d9-d32eb09351a5"
      },
      "source": [
        "i=1\n",
        "n=5\n",
        "for i in range (1,6):\n",
        "  for j in range(0,i):\n",
        "    print(i,end=\" \")\n",
        "  print(\"\\r\")"
      ],
      "execution_count": 1,
      "outputs": [
        {
          "output_type": "stream",
          "text": [
            "1 \r\n",
            "2 2 \r\n",
            "3 3 3 \r\n",
            "4 4 4 4 \r\n",
            "5 5 5 5 5 \r\n"
          ],
          "name": "stdout"
        }
      ]
    },
    {
      "cell_type": "code",
      "metadata": {
        "id": "NxTByyQR1xsG",
        "colab_type": "code",
        "colab": {
          "base_uri": "https://localhost:8080/",
          "height": 51
        },
        "outputId": "2a37f4f6-2abb-46f7-b2e3-85e1bdd0fbba"
      },
      "source": [
        "def input(str,n):\n",
        "  x=100-n\n",
        "  year=2019+x\n",
        "  print(str)\n",
        "  print(year)\n",
        "input(\"sameera\",20)"
      ],
      "execution_count": 4,
      "outputs": [
        {
          "output_type": "stream",
          "text": [
            "sameera\n",
            "2099\n"
          ],
          "name": "stdout"
        }
      ]
    },
    {
      "cell_type": "code",
      "metadata": {
        "id": "4fkXijL-2sCw",
        "colab_type": "code",
        "colab": {}
      },
      "source": [
        ""
      ],
      "execution_count": 0,
      "outputs": []
    }
  ]
}